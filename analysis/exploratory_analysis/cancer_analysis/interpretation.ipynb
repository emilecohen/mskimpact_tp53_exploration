{
 "cells": [
  {
   "cell_type": "markdown",
   "metadata": {},
   "source": [
    "# <span style='font-family:\"Times New Roman\"'> <span styel=''> **INTERPRETATION**\n",
    "\n",
    "*Emile Cohen* \n",
    "    \n",
    "*March 2020*"
   ]
  },
  {
   "cell_type": "markdown",
   "metadata": {},
   "source": [
    "**Goal:** In this Notebook, we gather code allowin to interpret the cancer panels computed in this section.\n",
    "\n",
    "\n",
    "\n",
    "---"
   ]
  },
  {
   "cell_type": "code",
   "execution_count": 3,
   "metadata": {
    "scrolled": true
   },
   "outputs": [
    {
     "name": "stdout",
     "output_type": "stream",
     "text": [
      "Setup environment... done!\n"
     ]
    },
    {
     "data": {
      "text/markdown": [
       "<span style=\"color:green\">✅ Working on **mskimpact_env** conda environment.</span>"
      ],
      "text/plain": [
       "<IPython.core.display.Markdown object>"
      ]
     },
     "metadata": {},
     "output_type": "display_data"
    }
   ],
   "source": [
    "%run -i '../../../utils/setup_environment.ipy'\n",
    "\n",
    "import warnings\n",
    "warnings.filterwarnings('ignore')\n",
    "from cancer_utils import *\n",
    "from scipy.stats import fisher_exact, ranksums, chi2, norm\n",
    "from statsmodels.sandbox.stats.multicomp import multipletests\n",
    "import matplotlib.gridspec as gridspec\n",
    "\n",
    "data_path = '../../../data/'"
   ]
  },
  {
   "cell_type": "code",
   "execution_count": 17,
   "metadata": {},
   "outputs": [
    {
     "name": "stdout",
     "output_type": "stream",
     "text": [
      "median tp53_res: 0.229\n",
      "median no_tp53_res: 0.6495\n",
      "statistic, p-value: -26.043323653020323,1.6012805178148291e-149\n"
     ]
    }
   ],
   "source": [
    "cancer_type = 'Breast Cancer'\n",
    "metrics = 'frac_genome_altered'\n",
    "master = load_clean_up_master(data_path + 'merged_data/master_file.pkl')\n",
    "# we remover indeterminate and NA tp53_cn_state samples\n",
    "master_cancer = master[master['Cancer_Type'] == cancer_type][master['tp53_cn_state'] != 'INDETERMINATE'][~master['tp53_cn_state'].isna()]\n",
    "\n",
    "group_1 = master_cancer[master_cancer['tp53_res_group'] == 'tp53_res'][metrics]\n",
    "group_2 = master_cancer[master_cancer['tp53_res_group'] == 'no_tp53_res'][metrics]\n",
    "\n",
    "median_1 = group_1.median()\n",
    "median_2 = group_2.median()\n",
    "\n",
    "statistic, p_value = ranksums(group_1.dropna().values,group_2.dropna().values)\n",
    "\n",
    "print('median tp53_res: ' + str(median_1))\n",
    "print('median no_tp53_res: ' + str(median_2))\n",
    "print('statistic, p-value: ' + str(statistic) +','+ str(p_value))"
   ]
  },
  {
   "cell_type": "code",
   "execution_count": null,
   "metadata": {},
   "outputs": [],
   "source": []
  }
 ],
 "metadata": {
  "kernelspec": {
   "display_name": "Python 3",
   "language": "python",
   "name": "python3"
  },
  "language_info": {
   "codemirror_mode": {
    "name": "ipython",
    "version": 3
   },
   "file_extension": ".py",
   "mimetype": "text/x-python",
   "name": "python",
   "nbconvert_exporter": "python",
   "pygments_lexer": "ipython3",
   "version": "3.7.6"
  },
  "toc": {
   "base_numbering": 1,
   "nav_menu": {},
   "number_sections": true,
   "sideBar": true,
   "skip_h1_title": false,
   "title_cell": "Table of Contents",
   "title_sidebar": "Contents",
   "toc_cell": false,
   "toc_position": {},
   "toc_section_display": true,
   "toc_window_display": false
  },
  "varInspector": {
   "cols": {
    "lenName": 16,
    "lenType": 16,
    "lenVar": 40
   },
   "kernels_config": {
    "python": {
     "delete_cmd_postfix": "",
     "delete_cmd_prefix": "del ",
     "library": "var_list.py",
     "varRefreshCmd": "print(var_dic_list())"
    },
    "r": {
     "delete_cmd_postfix": ") ",
     "delete_cmd_prefix": "rm(",
     "library": "var_list.r",
     "varRefreshCmd": "cat(var_dic_list()) "
    }
   },
   "types_to_exclude": [
    "module",
    "function",
    "builtin_function_or_method",
    "instance",
    "_Feature"
   ],
   "window_display": false
  }
 },
 "nbformat": 4,
 "nbformat_minor": 4
}
