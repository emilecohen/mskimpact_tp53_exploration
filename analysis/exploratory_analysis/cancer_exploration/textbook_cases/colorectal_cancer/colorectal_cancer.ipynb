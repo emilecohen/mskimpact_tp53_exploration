{
 "cells": [
  {
   "cell_type": "markdown",
   "metadata": {},
   "source": [
    "# <span style='font-family:\"Times New Roman\"'> <span styel=''>**COLORECTAL CANCER ANALYSIS**\n",
    "\n",
    "*Emile Cohen*\n",
    "    \n",
    "*June 2020*"
   ]
  },
  {
   "cell_type": "markdown",
   "metadata": {},
   "source": [
    "**Goal**: In this notebook, we want to understand what makes Colorectal Cancer a textbook case for the patterns we saw, and what are the major subcohorts that drive the signal.\n",
    "\n",
    "---"
   ]
  },
  {
   "cell_type": "code",
   "execution_count": 1,
   "metadata": {},
   "outputs": [
    {
     "name": "stdout",
     "output_type": "stream",
     "text": [
      "Setup environment... done!\n"
     ]
    },
    {
     "data": {
      "text/markdown": [
       "<span style=\"color:green\">✅ Working on **mskimpact_env** conda environment.</span>"
      ],
      "text/plain": [
       "<IPython.core.display.Markdown object>"
      ]
     },
     "metadata": {},
     "output_type": "display_data"
    }
   ],
   "source": [
    "%run -i '../../../../../utils/setup_environment.ipy'\n",
    "\n",
    "import warnings\n",
    "warnings.filterwarnings('ignore')\n",
    "from scipy.stats import fisher_exact, ranksums, chi2, norm\n",
    "from statsmodels.sandbox.stats.multicomp import multipletests\n",
    "import matplotlib.gridspec as gridspec\n",
    "import pickle\n",
    "\n",
    "data_path = '../../../../../data/'\n",
    "data_wgd = data_path + 'impact-facets-tp53/processed/wgd/'\n",
    "data_no_wgd = data_path + 'impact-facets-tp53/processed/no_wgd/'"
   ]
  },
  {
   "cell_type": "markdown",
   "metadata": {},
   "source": [
    "## Interesting functions"
   ]
  },
  {
   "cell_type": "code",
   "execution_count": 2,
   "metadata": {},
   "outputs": [],
   "source": [
    "from functools import reduce\n",
    "\n",
    "def get_hotspots(df: pd.DataFrame, Sample_Type: str, group: list = None, group_type:str = None):\n",
    "    data = df[df['Sample_Type'] == Sample_Type]\n",
    "    \n",
    "    if group and group_type:\n",
    "        data = data[data[group_type].isin(group)]\n",
    "\n",
    "    data_1 = get_groupby(data,'tp53_spot_1', 'count'); data_2 = get_groupby(data,'tp53_spot_2', 'count'); data_3 = get_groupby(data,'tp53_spot_3', 'count') ; data_4 = get_groupby(data,'tp53_spot_4', 'count') ; data_5 = get_groupby(data,'tp53_spot_5', 'count') \n",
    "    series_data = [data_1,data_2,data_3,data_4,data_5]\n",
    "\n",
    "    df_merged = reduce(lambda  left,right: pd.merge(left,right,left_index=True, right_index=True,\n",
    "                                                how='outer'), series_data).fillna(0)\n",
    "\n",
    "    df_merged.columns = ['count_1', 'count_2', 'count_3', 'count_4', 'count_5']\n",
    "    df_merged['total'] = df_merged.sum(axis=1)\n",
    "    df_merged = df_merged.sort_values(by='total', ascending=False)\n",
    "\n",
    "    df_merged = df_merged.drop('nan')\n",
    "    \n",
    "    return df_merged\n",
    "\n",
    "def boxplot_sampletype(df: pd.DataFrame, group:str, palette, order, metrics: str, figsize= (10,3), title: str = '', title_font: int=12, xlim=[0,1]):\n",
    "    fig=plt.figure(figsize=figsize)\n",
    "    ax = plt.subplot2grid(shape=(2,1), loc=(0,0), colspan=1)\n",
    "    \n",
    "    sns.boxplot(y=metrics, x=group,data=df,ax=ax, dodge=False,order=order, palette=palette).set_title(title, weight='bold', fontsize=title_font)\n",
    "\n",
    "    style(ax)\n",
    "    ax.set_ylim(xlim)\n",
    "    ax.spines['right'].set_visible(False)\n",
    "    ax.spines['top'].set_visible(False)\n",
    "\n",
    "    return fig, ax\n",
    "\n",
    "# Let's give a look at medians and statistics\n",
    "\n",
    "def get_statistics(df: pd.DataFrame, group:str, metrics: str, group_list: list):\n",
    "    group_1 = df[df[group] == group_list[0]][metrics]\n",
    "    group_2 = df[df[group] == group_list[1]][metrics]\n",
    "\n",
    "    median_1 = group_1.median()\n",
    "    median_2 = group_2.median()\n",
    "\n",
    "    statistic, p_value = ranksums(group_1.dropna().values,group_2.dropna().values)\n",
    "    \n",
    "    results = [['', 'size', metrics],\n",
    "               [group_list[0], group_1.shape[0], median_1],\n",
    "               [group_list[1], group_2.shape[0], median_2],\n",
    "               ['', 'Statistics', 'p-value'],\n",
    "               ['', statistic, p_value]]\n",
    "\n",
    "\n",
    "    return pd.DataFrame(results)"
   ]
  },
  {
   "cell_type": "markdown",
   "metadata": {},
   "source": [
    "## Master Definition and Filtering"
   ]
  },
  {
   "cell_type": "code",
   "execution_count": 3,
   "metadata": {},
   "outputs": [],
   "source": [
    "master_no_wgd = non_wgd_load_and_cut(data_path + 'impact-facets-tp53/processed/no_wgd/master_no_wgd.pkl')\n",
    "master_wgd = pd.read_pickle(data_path + 'impact-facets-tp53/processed/wgd/master_wgd.pkl')\n",
    "\n",
    "master_no_wgd_glioma = master_no_wgd[master_no_wgd['Cancer_Type'] == 'Glioma']\n",
    "master_wgd_glioma = master_wgd[master_wgd['Cancer_Type'] == 'Glioma']"
   ]
  },
  {
   "cell_type": "markdown",
   "metadata": {},
   "source": [
    "# What makes Colorectal Cancer a TextBook Case?"
   ]
  },
  {
   "cell_type": "markdown",
   "metadata": {},
   "source": [
    "## WGD Proportion"
   ]
  },
  {
   "cell_type": "markdown",
   "metadata": {},
   "source": [
    "Colorectal Cancer has an average proportion of WGD - around 42%\n",
    "<img src=\"wgd_proportion.png\" width=700 length=700>"
   ]
  },
  {
   "cell_type": "markdown",
   "metadata": {},
   "source": [
    "## Cancer Panel"
   ]
  },
  {
   "cell_type": "markdown",
   "metadata": {},
   "source": [
    "* Colorectal Cancer is one of the most represented cancer in MSK-Impact Cohort.\n",
    "* Enriched for Primary Samples\n",
    "* It is enriched for >=1_LOSS subgroup, and shows a depletion of 0_HETLOSS subgroup.\n",
    "* This difference in subgroup proportion implies that COlorectal is enriched for tp53 bi-allelic state (darker green in the last plot) in both Primary and Metastatic cohorts."
   ]
  },
  {
   "cell_type": "markdown",
   "metadata": {},
   "source": [
    "<img src=\"colorectal_header.png\" width=700 length=700>\n",
    "<img src=\"colorectal_panel.png\" width=1000 length=700>"
   ]
  },
  {
   "cell_type": "markdown",
   "metadata": {},
   "source": [
    "## Genome Instability"
   ]
  },
  {
   "cell_type": "markdown",
   "metadata": {},
   "source": [
    "Colorectal Cancer shows a significant difference in Genome Instability between TP53 Mono-Allelic and Bi-Allelic subgroups - and has a lot of samples in both groups.\n",
    "<img src=\"pancancer_gi.png\" width=1000 length=600>"
   ]
  },
  {
   "cell_type": "markdown",
   "metadata": {},
   "source": [
    "In the TP53 subgroup Pan Cancer plot that follows, we can see 3 important signals:\n",
    "* The GI difference between *0_HETLOSS* and *1_WILD_TYPE*, two likely mono-allelic subgroups\n",
    "* *1_WILD_TYPE* GI is very low compared to other subgroups\n",
    "* Bi Allelic Subgroups - *>=1_LOSS* and *>=1_cnLOH* - have higher GI  than other subgroups and the difference is significant\n",
    "\n",
    "\n",
    "\n",
    "\n",
    "<img src=\"pancancer_gi_sub_b.png\" width=1000 length=600>\n",
    "\n"
   ]
  },
  {
   "cell_type": "markdown",
   "metadata": {},
   "source": [
    "## Co Drivers"
   ]
  },
  {
   "cell_type": "markdown",
   "metadata": {},
   "source": [
    "Colorectal Cancer is one of the 2 cancers (Endometrial is the other) that shows a difference in # of co-drivers between *0_HETLOSS* and *1_WILD_TYPE*. This is consitent with the fact that *1_WILD_TYPE* is 'very' stable, thus it does need more co drivers than other subgroups.\n",
    "<img src=\"driver_count.png\" width=1000 length=600>"
   ]
  },
  {
   "cell_type": "markdown",
   "metadata": {},
   "source": [
    "# Cancer Investigation\n",
    "In this section, our goal is to find subcohorts that lead the signals observed. We will begin by splitting on hotspot subgroups, then we will investigate different CCF groups."
   ]
  },
  {
   "cell_type": "markdown",
   "metadata": {},
   "source": [
    "## Hotspot Analysis"
   ]
  },
  {
   "cell_type": "code",
   "execution_count": null,
   "metadata": {},
   "outputs": [],
   "source": []
  },
  {
   "cell_type": "markdown",
   "metadata": {},
   "source": [
    "## CCF Analysis"
   ]
  },
  {
   "cell_type": "code",
   "execution_count": null,
   "metadata": {},
   "outputs": [],
   "source": []
  }
 ],
 "metadata": {
  "kernelspec": {
   "display_name": "Python 3",
   "language": "python",
   "name": "python3"
  },
  "language_info": {
   "codemirror_mode": {
    "name": "ipython",
    "version": 3
   },
   "file_extension": ".py",
   "mimetype": "text/x-python",
   "name": "python",
   "nbconvert_exporter": "python",
   "pygments_lexer": "ipython3",
   "version": "3.7.6"
  },
  "toc": {
   "base_numbering": 1,
   "nav_menu": {},
   "number_sections": true,
   "sideBar": true,
   "skip_h1_title": false,
   "title_cell": "Table of Contents",
   "title_sidebar": "Contents",
   "toc_cell": false,
   "toc_position": {},
   "toc_section_display": true,
   "toc_window_display": false
  },
  "varInspector": {
   "cols": {
    "lenName": 16,
    "lenType": 16,
    "lenVar": 40
   },
   "kernels_config": {
    "python": {
     "delete_cmd_postfix": "",
     "delete_cmd_prefix": "del ",
     "library": "var_list.py",
     "varRefreshCmd": "print(var_dic_list())"
    },
    "r": {
     "delete_cmd_postfix": ") ",
     "delete_cmd_prefix": "rm(",
     "library": "var_list.r",
     "varRefreshCmd": "cat(var_dic_list()) "
    }
   },
   "types_to_exclude": [
    "module",
    "function",
    "builtin_function_or_method",
    "instance",
    "_Feature"
   ],
   "window_display": false
  }
 },
 "nbformat": 4,
 "nbformat_minor": 4
}
