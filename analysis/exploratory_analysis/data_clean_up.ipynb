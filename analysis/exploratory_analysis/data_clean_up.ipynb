{
 "cells": [
  {
   "cell_type": "markdown",
   "metadata": {},
   "source": [
    "# <span style='font-family:\"Times New Roman\"'> <span styel=''> **DATA CLEAN UP**\n",
    "\n",
    "<span style='font-family:\"Times New Roman\"'> <span styel=''> *Emile Cohen* \n",
    "    \n",
    "*March 2020*"
   ]
  },
  {
   "cell_type": "markdown",
   "metadata": {},
   "source": [
    "**Goal:** In this notebook, we assess the right purity threshold to cut the uncertain samples while keeping enough samples for our study. We also look at the effects of changing the purity threshold on the subgroups definition.\n",
    "\n",
    "\n",
    "\n",
    "**NB1:** In each part, you must run the cells from the begining in order to initialize the variables\n",
    "\n",
    "**NB2:** All functions used for the plots are located in utils/custom_tools.py\n",
    "\n",
    "---"
   ]
  },
  {
   "cell_type": "code",
   "execution_count": 3,
   "metadata": {},
   "outputs": [
    {
     "name": "stdout",
     "output_type": "stream",
     "text": [
      "Setup environment... done!\n"
     ]
    },
    {
     "data": {
      "text/markdown": [
       "<span style=\"color:green\">✅ Working on **mskimpact_env** conda environment.</span>"
      ],
      "text/plain": [
       "<IPython.core.display.Markdown object>"
      ]
     },
     "metadata": {},
     "output_type": "display_data"
    }
   ],
   "source": [
    "%run -i '../../utils/setup_environment.ipy'\n",
    "from utils.analysis_tools import *\n",
    "\n",
    "import warnings, math\n",
    "\n",
    "warnings.filterwarnings('ignore')\n",
    "import ptitprince as pt\n",
    "import IPython.display\n",
    "from itertools import cycle, islice\n",
    "from lifelines import KaplanMeierFitter\n",
    "\n",
    "data_path = '../../data/'"
   ]
  },
  {
   "cell_type": "markdown",
   "metadata": {},
   "source": [
    "---"
   ]
  },
  {
   "cell_type": "code",
   "execution_count": 4,
   "metadata": {},
   "outputs": [],
   "source": [
    "master = pd.read_pickle(data_path + 'merged_data/master_file.pkl')"
   ]
  },
  {
   "cell_type": "markdown",
   "metadata": {},
   "source": [
    "# Function definitions"
   ]
  },
  {
   "cell_type": "code",
   "execution_count": 5,
   "metadata": {},
   "outputs": [
    {
     "ename": "SyntaxError",
     "evalue": "invalid syntax (<ipython-input-5-065ee12e9bf2>, line 149)",
     "output_type": "error",
     "traceback": [
      "\u001b[0;36m  File \u001b[0;32m\"<ipython-input-5-065ee12e9bf2>\"\u001b[0;36m, line \u001b[0;32m149\u001b[0m\n\u001b[0;31m    def plot_copies_tcn(data, group, group_name, nb_muts, ax=):\u001b[0m\n\u001b[0m                                                             ^\u001b[0m\n\u001b[0;31mSyntaxError\u001b[0m\u001b[0;31m:\u001b[0m invalid syntax\n"
     ]
    }
   ],
   "source": [
    "sns.set_style(\"whitegrid\", {'grid.color': '0.98'})\n",
    "my_colors = list(islice(cycle(list(sns.color_palette(\"muted\"))), None, 6))\n",
    "\n",
    "\n",
    "def annotate_axes(fig):\n",
    "    for i, ax in enumerate(fig.axes):\n",
    "        ax.tick_params(labelbottom=True, labelleft=True)\n",
    "        ax.spines['right'].set_visible(False)\n",
    "        ax.spines['top'].set_visible(False)\n",
    "\n",
    "\n",
    "def def_fig_set(figsize=(15, 12), number=6):\n",
    "    fig = plt.figure(figsize=figsize)\n",
    "    if number == 6:\n",
    "        ax1 = plt.subplot2grid(shape=(3, 7), loc=(0, 0), colspan=3)\n",
    "        ax2 = plt.subplot2grid((3, 7), (0, 4), colspan=3)\n",
    "        ax3 = plt.subplot2grid((3, 7), (1, 0), colspan=3)\n",
    "        ax4 = plt.subplot2grid((3, 7), (1, 4), colspan=3)\n",
    "        ax5 = plt.subplot2grid((3, 7), (2, 0), colspan=3)\n",
    "        ax6 = plt.subplot2grid((3, 7), (2, 4), colspan=3)\n",
    "\n",
    "    if number == 5:\n",
    "        ax1 = plt.subplot2grid(shape=(3, 7), loc=(0, 0), colspan=3)\n",
    "        ax2 = plt.subplot2grid((3, 7), (0, 4), colspan=3)\n",
    "        ax3 = plt.subplot2grid((3, 7), (1, 0), colspan=3)\n",
    "        ax4 = plt.subplot2grid((3, 7), (1, 4), colspan=3)\n",
    "        ax5 = plt.subplot2grid((3, 7), (2, 2), colspan=3)\n",
    "\n",
    "    if number == 4:\n",
    "        ax1 = plt.subplot2grid(shape=(3, 7), loc=(0, 0), colspan=3)\n",
    "        ax2 = plt.subplot2grid((3, 7), (0, 4), colspan=3)\n",
    "        ax3 = plt.subplot2grid((3, 7), (1, 0), colspan=3)\n",
    "        ax4 = plt.subplot2grid((3, 7), (1, 4), colspan=3)\n",
    "        \n",
    "    annotate_axes(fig)\n",
    "\n",
    "    return fig\n",
    "\n",
    "\n",
    "def get_densities(master: pd.DataFrame,\n",
    "                  metrics: str,\n",
    "                  fig_title: str,\n",
    "                  xlabel,\n",
    "                  ylabel,\n",
    "                  number=6,\n",
    "                  met_prim: str = None,\n",
    "                  clip=(0.0, 3.0),\n",
    "                  x_lim=[0, 1]):\n",
    "    # We initialize the figure\n",
    "    fig = def_fig_set(number=number)\n",
    "    fig.tight_layout(pad=10, w_pad=0.5, h_pad=10)\n",
    "    fig.suptitle(fig_title, fontsize=16, weight='bold')\n",
    "\n",
    "    # We differentiate the groups if we have\n",
    "    if number == 6:\n",
    "        groups = [\n",
    "            '>=1_LOSS', 'HOMDEL', '1_WILD_TYPE', '>1muts', '>=1_cnLOH',\n",
    "            '0_HETLOSS'\n",
    "        ]\n",
    "    if number == 5:\n",
    "        groups = ['>=1_LOSS', 'HOMDEL', '1_WILD_TYPE', '>1muts', '>=1_cnLOH']\n",
    "\n",
    "    for ax, group, i in zip(fig.axes, groups, range(len(groups))):\n",
    "        data = master[master['mut_cn_group'] == group]\n",
    "        if met_prim:\n",
    "            data = data[data['Sample_Type'] == met_prim]\n",
    "        sns.distplot(data[metrics],\n",
    "                     hist=False,\n",
    "                     kde_kws={\n",
    "                         'clip': clip,\n",
    "                         \"shade\": True\n",
    "                     },\n",
    "                     ax=ax,\n",
    "                     color=my_colors[i])\n",
    "        ax.set_xlim(x_lim)\n",
    "        ax.set_xlabel(xlabel)\n",
    "        ax.set_ylabel(ylabel)\n",
    "\n",
    "        # Adding Mean and Median Information\n",
    "        mean = round(data[metrics].mean(), 2)\n",
    "        median = round(data[metrics].median(), 2)\n",
    "        string = 'Mean: ' + str(mean) + '\\nMedian: ' + str(median)\n",
    "        ax.axvline(mean, color='g', linestyle='-', label='Mean: ' + str(mean))\n",
    "        ax.axvline(median,\n",
    "                   color='b',\n",
    "                   linestyle='-',\n",
    "                   label='Median: ' + str(median))\n",
    "        ax.legend()\n",
    "\n",
    "        ax.set_title(group, weight='bold')\n",
    "\n",
    "\n",
    "def compute_median_interval(x):\n",
    "    median_list = []\n",
    "    for group in [\n",
    "            '>=1_cnLOH', '1_WILD_TYPE', '>1muts', 'HOMDEL', '>=1_LOSS',\n",
    "            '0_HETLOSS'\n",
    "    ]:\n",
    "        median_list.append(master[master['mut_cn_group'] == group][\n",
    "            master['purity'] > x.purity]['purity'].median())\n",
    "\n",
    "    return [round(min(median_list), 2), round(max(median_list), 2)]\n",
    "\n",
    "\n",
    "def cut_master(master: pd.DataFrame, range_: list, threshold: float):\n",
    "    '''\n",
    "    This function returns the table of population quartiles for the parameters set and shows\n",
    "    the purity andd ccf densities for the parameters.\n",
    "    \n",
    "    Arguments:\n",
    "        - master: Dataframe\n",
    "        - to_cut: column on which we want to cut. Example: 'purity'\n",
    "        - threshold: betwwen 0 and 1 to cut the low range samples\n",
    "    '''\n",
    "    for group in [\n",
    "            '>=1_cnLOH', '1_WILD_TYPE', '>1muts', 'HOMDEL', '>=1_LOSS',\n",
    "            '0_HETLOSS'\n",
    "    ]:\n",
    "        a = pd.DataFrame(master[master['mut_cn_group'] == group])\n",
    "        h = [len(a[a['purity'] <= x]) for x in range_]\n",
    "        h_df = pd.DataFrame(h, columns=[group], index=range_)\n",
    "        if group == '>=1_cnLOH':\n",
    "            h_tot = h_df\n",
    "        else:\n",
    "            h_tot = pd.concat([h_tot, h_df], axis=1)\n",
    "\n",
    "    h_tot['SUM'] = h_tot.apply(sum, axis=1)\n",
    "    h_tot['ratio'] = h_tot.apply(\n",
    "        lambda x: 100 * round(x.SUM / list(h_tot['SUM'])[-1], 3), axis=1)\n",
    "    h_tot['purity'] = list(h_tot.index.values)\n",
    "    h_tot['purity_median_interval'] = h_tot.apply(compute_median_interval,\n",
    "                                                  axis=1)\n",
    "    h_tot = h_tot.drop('purity', axis=1)\n",
    "\n",
    "    master_cut = master[master['purity'] > threshold]\n",
    "    get_densities(master_cut,\n",
    "                  'purity',\n",
    "                  fig_title='Purity',\n",
    "                  xlabel='Purity',\n",
    "                  ylabel='Density')\n",
    "    get_densities(master_cut,\n",
    "                  'ccf_1',\n",
    "                  fig_title='CCF',\n",
    "                  xlabel='ccf',\n",
    "                  ylabel='Density',\n",
    "                  number=5)\n",
    "    return h_tot\n",
    "\n",
    "def plot_copies_tcn(data, group, group_name, nb_muts, ax=):\n",
    "    data = filter_muts(data, nb_muts)\n",
    "    data_1 =  pd.DataFrame(data[['Tumor_Id','exp_nb_1']])\n",
    "    data_1.columns = ['Tumor_Id', 'exp_nb']\n",
    "    data_2 = pd.DataFrame(data[['Tumor_Id','exp_nb_2']])\n",
    "    data_2.columns = ['Tumor_Id', 'exp_nb']\n",
    "    data_3 = pd.DataFrame(data[['Tumor_Id','exp_nb_3']])\n",
    "    data_3.columns = ['Tumor_Id', 'exp_nb']\n",
    "    data_4 = pd.DataFrame(data[['Tumor_Id','exp_nb_4']])\n",
    "    data_4.columns = ['Tumor_Id', 'exp_nb']\n",
    "    data_5 = pd.DataFrame(data[['Tumor_Id','exp_nb_5']])\n",
    "    data_5.columns = ['Tumor_Id', 'exp_nb']\n",
    "    data_tot = data_1.append(data_2)\n",
    "    data_tot = data_tot.append(data_3)\n",
    "    data_tot = data_tot.append(data_4)\n",
    "    data_tot = data_tot.append(data_5)\n",
    "    \n",
    "    data_tot = pd.merge(left=data_tot, right=data[['Tumor_Id','cn_state', 'tcn']],how='left', left_on='Tumor_Id',right_on='Tumor_Id')\n",
    "\n",
    "    dx=\"tcn\"; dy=\"exp_nb\"; ort=\"h\"; pal = \"muted\"; sigma = .2; dhue = \"cn_state\"; dhue_order=group\n",
    "    f, ax = plt.subplots(figsize=(15, 10))\n",
    "    \n",
    "    # Little trick for indeterminate group\n",
    "    if group_name == 'INDETERMINATE':\n",
    "        pt.RainCloud(x = dx, y = dy, data = data_tot, palette = pal, bw = sigma,\n",
    "                 width_viol = .6, ax = ax, orient = ort, alpha=.6, mv=.2)\n",
    "    else:\n",
    "        pt.RainCloud(x = dx, y = dy, data = data_tot, palette = pal, bw = sigma, hue=dhue, hue_order=dhue_order,\n",
    "                 width_viol = .6, ax = ax, orient = ort, alpha=.6, mv=.2)\n",
    "    ax.set_ylabel('Total Copy Number')\n",
    "    ax.set_xlabel('Expected number of copies of Tp53 mutations')\n",
    "    ax.set_title(group_name, weight = 'bold')\n",
    "    \n",
    "    return f, ax"
   ]
  },
  {
   "cell_type": "markdown",
   "metadata": {},
   "source": [
    "# Purity Cut-Off Table"
   ]
  },
  {
   "cell_type": "markdown",
   "metadata": {},
   "source": [
    "The following table allows us to know exactly the number of samples we lose in each subgroup for each purity threshold. Moreover, we can see the overall proportion of samples lost and the purity median intervals."
   ]
  },
  {
   "cell_type": "code",
   "execution_count": 6,
   "metadata": {},
   "outputs": [
    {
     "ename": "NameError",
     "evalue": "name 'cut_master' is not defined",
     "output_type": "error",
     "traceback": [
      "\u001b[0;31m---------------------------------------------------------------------------\u001b[0m",
      "\u001b[0;31mNameError\u001b[0m                                 Traceback (most recent call last)",
      "\u001b[0;32m<ipython-input-6-aed0945eaa08>\u001b[0m in \u001b[0;36m<module>\u001b[0;34m\u001b[0m\n\u001b[0;32m----> 1\u001b[0;31m \u001b[0mcut_master\u001b[0m\u001b[0;34m(\u001b[0m\u001b[0mmaster\u001b[0m\u001b[0;34m,\u001b[0m \u001b[0mrange_\u001b[0m \u001b[0;34m=\u001b[0m \u001b[0;34m[\u001b[0m\u001b[0;36m0.2\u001b[0m\u001b[0;34m,\u001b[0m\u001b[0;36m0.21\u001b[0m\u001b[0;34m,\u001b[0m \u001b[0;36m0.22\u001b[0m\u001b[0;34m,\u001b[0m \u001b[0;36m0.23\u001b[0m\u001b[0;34m,\u001b[0m \u001b[0;36m0.24\u001b[0m\u001b[0;34m,\u001b[0m \u001b[0;36m0.25\u001b[0m\u001b[0;34m,\u001b[0m \u001b[0;36m0.26\u001b[0m\u001b[0;34m,\u001b[0m \u001b[0;36m0.27\u001b[0m\u001b[0;34m,\u001b[0m \u001b[0;36m0.28\u001b[0m\u001b[0;34m,\u001b[0m \u001b[0;36m0.3\u001b[0m\u001b[0;34m,\u001b[0m\u001b[0;36m0.31\u001b[0m\u001b[0;34m,\u001b[0m\u001b[0;36m0.32\u001b[0m\u001b[0;34m,\u001b[0m\u001b[0;36m0.33\u001b[0m\u001b[0;34m,\u001b[0m\u001b[0;36m0.34\u001b[0m\u001b[0;34m,\u001b[0m\u001b[0;36m0.35\u001b[0m\u001b[0;34m,\u001b[0m\u001b[0;36m0.36\u001b[0m\u001b[0;34m,\u001b[0m\u001b[0;36m0.37\u001b[0m\u001b[0;34m,\u001b[0m \u001b[0;36m0.4\u001b[0m\u001b[0;34m,\u001b[0m\u001b[0;36m0.6\u001b[0m\u001b[0;34m,\u001b[0m\u001b[0;36m0.8\u001b[0m\u001b[0;34m,\u001b[0m\u001b[0;36m1\u001b[0m\u001b[0;34m]\u001b[0m\u001b[0;34m,\u001b[0m \u001b[0mthreshold\u001b[0m\u001b[0;34m=\u001b[0m\u001b[0;36m0.30\u001b[0m\u001b[0;34m)\u001b[0m\u001b[0;34m\u001b[0m\u001b[0;34m\u001b[0m\u001b[0m\n\u001b[0m",
      "\u001b[0;31mNameError\u001b[0m: name 'cut_master' is not defined"
     ]
    }
   ],
   "source": [
    "cut_master(master, range_ = [0.2,0.21, 0.22, 0.23, 0.24, 0.25, 0.26, 0.27, 0.28, 0.3,0.31,0.32,0.33,0.34,0.35,0.36,0.37, 0.4,0.6,0.8,1], threshold=0.30)"
   ]
  },
  {
   "cell_type": "markdown",
   "metadata": {},
   "source": [
    "# Consequences on Subgroup definition"
   ]
  },
  {
   "cell_type": "markdown",
   "metadata": {},
   "source": [
    "For each purity threshold, we want to be able to see the differences in terms of expected number of mutant copies for each subgroups. Because our subgroups are highly dependant of the purity (formula), we need to be sure that our subgroups are still consistent if we put a threshold."
   ]
  },
  {
   "cell_type": "code",
   "execution_count": 7,
   "metadata": {},
   "outputs": [],
   "source": [
    "def plot_distribution_changes(df, subgroup, purity):\n",
    "    df_sub = df[df['mut_cn_group'] == subgroup][df['purity']>purity]\n",
    "    df_ref = df[df['mut_cn_group'] == subgroup]\n",
    "    \n",
    "    df_sub_group = list(set(df_sub.cn_state))\n",
    "    df_ref_group = list(set(df_ref.cn_state))\n",
    "    \n",
    "    fig, ax = plot_copies_tcn(df_ref, df_ref_group, subgroup + ' REF', nb_muts=[1,2,3,4,5])\n",
    "    plot_copies_tcn(df_sub, df_sub_group, subgroup + ' : 0.3 Cut-Off', nb_muts=[1,2,3,4,5])\n",
    "    \n",
    "    "
   ]
  },
  {
   "cell_type": "code",
   "execution_count": 8,
   "metadata": {},
   "outputs": [
    {
     "ename": "NameError",
     "evalue": "name 'plot_copies_tcn' is not defined",
     "output_type": "error",
     "traceback": [
      "\u001b[0;31m---------------------------------------------------------------------------\u001b[0m",
      "\u001b[0;31mNameError\u001b[0m                                 Traceback (most recent call last)",
      "\u001b[0;32m<ipython-input-8-248c22ecbc15>\u001b[0m in \u001b[0;36m<module>\u001b[0;34m\u001b[0m\n\u001b[0;32m----> 1\u001b[0;31m \u001b[0mplot_distribution_changes\u001b[0m\u001b[0;34m(\u001b[0m\u001b[0mmaster\u001b[0m\u001b[0;34m,\u001b[0m\u001b[0;34m'1_WILD_TYPE'\u001b[0m\u001b[0;34m,\u001b[0m \u001b[0;36m0.30\u001b[0m\u001b[0;34m)\u001b[0m\u001b[0;34m\u001b[0m\u001b[0;34m\u001b[0m\u001b[0m\n\u001b[0m",
      "\u001b[0;32m<ipython-input-7-05b6aec71845>\u001b[0m in \u001b[0;36mplot_distribution_changes\u001b[0;34m(df, subgroup, purity)\u001b[0m\n\u001b[1;32m      6\u001b[0m     \u001b[0mdf_ref_group\u001b[0m \u001b[0;34m=\u001b[0m \u001b[0mlist\u001b[0m\u001b[0;34m(\u001b[0m\u001b[0mset\u001b[0m\u001b[0;34m(\u001b[0m\u001b[0mdf_ref\u001b[0m\u001b[0;34m.\u001b[0m\u001b[0mcn_state\u001b[0m\u001b[0;34m)\u001b[0m\u001b[0;34m)\u001b[0m\u001b[0;34m\u001b[0m\u001b[0;34m\u001b[0m\u001b[0m\n\u001b[1;32m      7\u001b[0m \u001b[0;34m\u001b[0m\u001b[0m\n\u001b[0;32m----> 8\u001b[0;31m     \u001b[0mfig\u001b[0m\u001b[0;34m,\u001b[0m \u001b[0max\u001b[0m \u001b[0;34m=\u001b[0m \u001b[0mplot_copies_tcn\u001b[0m\u001b[0;34m(\u001b[0m\u001b[0mdf_ref\u001b[0m\u001b[0;34m,\u001b[0m \u001b[0mdf_ref_group\u001b[0m\u001b[0;34m,\u001b[0m \u001b[0msubgroup\u001b[0m \u001b[0;34m+\u001b[0m \u001b[0;34m' REF'\u001b[0m\u001b[0;34m,\u001b[0m \u001b[0mnb_muts\u001b[0m\u001b[0;34m=\u001b[0m\u001b[0;34m[\u001b[0m\u001b[0;36m1\u001b[0m\u001b[0;34m,\u001b[0m\u001b[0;36m2\u001b[0m\u001b[0;34m,\u001b[0m\u001b[0;36m3\u001b[0m\u001b[0;34m,\u001b[0m\u001b[0;36m4\u001b[0m\u001b[0;34m,\u001b[0m\u001b[0;36m5\u001b[0m\u001b[0;34m]\u001b[0m\u001b[0;34m)\u001b[0m\u001b[0;34m\u001b[0m\u001b[0;34m\u001b[0m\u001b[0m\n\u001b[0m\u001b[1;32m      9\u001b[0m     \u001b[0mplot_copies_tcn\u001b[0m\u001b[0;34m(\u001b[0m\u001b[0mdf_sub\u001b[0m\u001b[0;34m,\u001b[0m \u001b[0mdf_sub_group\u001b[0m\u001b[0;34m,\u001b[0m \u001b[0msubgroup\u001b[0m \u001b[0;34m+\u001b[0m \u001b[0;34m' : 0.3 Cut-Off'\u001b[0m\u001b[0;34m,\u001b[0m \u001b[0mnb_muts\u001b[0m\u001b[0;34m=\u001b[0m\u001b[0;34m[\u001b[0m\u001b[0;36m1\u001b[0m\u001b[0;34m,\u001b[0m\u001b[0;36m2\u001b[0m\u001b[0;34m,\u001b[0m\u001b[0;36m3\u001b[0m\u001b[0;34m,\u001b[0m\u001b[0;36m4\u001b[0m\u001b[0;34m,\u001b[0m\u001b[0;36m5\u001b[0m\u001b[0;34m]\u001b[0m\u001b[0;34m)\u001b[0m\u001b[0;34m\u001b[0m\u001b[0;34m\u001b[0m\u001b[0m\n\u001b[1;32m     10\u001b[0m \u001b[0;34m\u001b[0m\u001b[0m\n",
      "\u001b[0;31mNameError\u001b[0m: name 'plot_copies_tcn' is not defined"
     ]
    }
   ],
   "source": [
    "plot_distribution_changes(master,'1_WILD_TYPE', 0.30)"
   ]
  },
  {
   "cell_type": "code",
   "execution_count": 9,
   "metadata": {},
   "outputs": [
    {
     "data": {
      "text/plain": [
       "count    29259.000000\n",
       "mean         0.495998\n",
       "std          0.207611\n",
       "min          0.018483\n",
       "25%          0.319343\n",
       "50%          0.469927\n",
       "75%          0.658602\n",
       "max          0.989434\n",
       "Name: purity, dtype: float64"
      ]
     },
     "execution_count": 9,
     "metadata": {},
     "output_type": "execute_result"
    }
   ],
   "source": [
    "master.purity.describe()"
   ]
  },
  {
   "cell_type": "code",
   "execution_count": null,
   "metadata": {},
   "outputs": [],
   "source": []
  },
  {
   "cell_type": "code",
   "execution_count": null,
   "metadata": {},
   "outputs": [],
   "source": []
  },
  {
   "cell_type": "code",
   "execution_count": null,
   "metadata": {},
   "outputs": [],
   "source": []
  }
 ],
 "metadata": {
  "kernelspec": {
   "display_name": "Python 3",
   "language": "python",
   "name": "python3"
  },
  "language_info": {
   "codemirror_mode": {
    "name": "ipython",
    "version": 3
   },
   "file_extension": ".py",
   "mimetype": "text/x-python",
   "name": "python",
   "nbconvert_exporter": "python",
   "pygments_lexer": "ipython3",
   "version": "3.7.6"
  },
  "toc": {
   "base_numbering": 1,
   "nav_menu": {},
   "number_sections": true,
   "sideBar": true,
   "skip_h1_title": false,
   "title_cell": "Table of Contents",
   "title_sidebar": "Contents",
   "toc_cell": false,
   "toc_position": {},
   "toc_section_display": true,
   "toc_window_display": true
  },
  "varInspector": {
   "cols": {
    "lenName": 16,
    "lenType": 16,
    "lenVar": 40
   },
   "kernels_config": {
    "python": {
     "delete_cmd_postfix": "",
     "delete_cmd_prefix": "del ",
     "library": "var_list.py",
     "varRefreshCmd": "print(var_dic_list())"
    },
    "r": {
     "delete_cmd_postfix": ") ",
     "delete_cmd_prefix": "rm(",
     "library": "var_list.r",
     "varRefreshCmd": "cat(var_dic_list()) "
    }
   },
   "position": {
    "height": "404px",
    "left": "1339px",
    "right": "20px",
    "top": "120px",
    "width": "321px"
   },
   "types_to_exclude": [
    "module",
    "function",
    "builtin_function_or_method",
    "instance",
    "_Feature"
   ],
   "window_display": false
  }
 },
 "nbformat": 4,
 "nbformat_minor": 4
}
