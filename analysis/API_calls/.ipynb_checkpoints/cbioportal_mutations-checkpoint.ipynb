{
 "cells": [
  {
   "cell_type": "markdown",
   "metadata": {},
   "source": [
    "# <span style='font-family:\"Times New Roman\"'> <span styel=''>**CBIOPORTAL EXTRACTION OF MSK IMPACT MUTATIONS**\n",
    "## <span style='font-family:\"Times New Roman\"'> <span styel=''>*Emile Cohen*\n",
    " *March 2020*"
   ]
  },
  {
   "cell_type": "markdown",
   "metadata": {},
   "source": [
    "**Goal:** Through this notebook, we call the CBioPortal API to get the mutations file of the entire MSK IMPACT Cohort.\n",
    "\n",
    "---"
   ]
  },
  {
   "cell_type": "markdown",
   "metadata": {},
   "source": [
    "# Creation of exploitable dataframe from CBioPortal Datasets"
   ]
  },
  {
   "cell_type": "code",
   "execution_count": 4,
   "metadata": {},
   "outputs": [
    {
     "name": "stdout",
     "output_type": "stream",
     "text": [
      "Setup environment... done!\n"
     ]
    },
    {
     "data": {
      "text/markdown": [
       "<span style=\"color:green\">✅ Working on **mskimpact_env** conda environment.</span>"
      ],
      "text/plain": [
       "<IPython.core.display.Markdown object>"
      ]
     },
     "metadata": {},
     "output_type": "display_data"
    }
   ],
   "source": [
    "%run -i '../../utils/setup_environment.ipy'\n",
    "\n",
    "import warnings\n",
    "warnings.filterwarnings('ignore')\n",
    "\n",
    "data_path = '../../data/'\n",
    "\n",
    "import pprint\n",
    "import json\n",
    "import click\n",
    "import requests"
   ]
  },
  {
   "cell_type": "markdown",
   "metadata": {},
   "source": [
    "## Extract dataset from Cbio Portal API\n",
    "First we need to extract the samples from the Clinical Data Table that we have already downloaded from CBioPortal"
   ]
  },
  {
   "cell_type": "code",
   "execution_count": 5,
   "metadata": {},
   "outputs": [],
   "source": [
    "samples = pd.read_csv(data_path + 'cbioportal/raw/mskimpact_clinical_data-2.tsv', sep= '\\t')"
   ]
  },
  {
   "cell_type": "code",
   "execution_count": 10,
   "metadata": {},
   "outputs": [
    {
     "name": "stdout",
     "output_type": "stream",
     "text": [
      "Querying to https://cbioportal.mskcc.org/api/molecular-profiles/mskimpact_mutations/mutations/fetch?projection=DETAILED\n"
     ]
    },
    {
     "name": "stderr",
     "output_type": "stream",
     "text": [
      "/opt/anaconda3/lib/python3.7/site-packages/urllib3/connectionpool.py:847: InsecureRequestWarning: Unverified HTTPS request is being made. Adding certificate verification is strongly advised. See: https://urllib3.readthedocs.io/en/latest/advanced-usage.html#ssl-warnings\n",
      "  InsecureRequestWarning)\n"
     ]
    },
    {
     "name": "stdout",
     "output_type": "stream",
     "text": [
      "CPU times: user 12.9 s, sys: 1.5 s, total: 14.4 s\n",
      "Wall time: 47.3 s\n"
     ]
    },
    {
     "data": {
      "text/plain": [
       "'if samples.any().any():\\n    sampleIds = [sample[\\'Sample ID\\'] for sample in samples]\\n    #click.secho(f\\'Patient {pid} has samples: {\", \".join(sampleIds)}\\')\\n    # Get Mutations for all DMP Samples\\n    data = {\\'sampleIds\\': sampleIds}\\n    response = retry_request(\\n        \\'post\\',\\n        url=endpoints[\\'mutations\\'], \\n        data=json.dumps(data),\\n        headers=headers\\n    )'"
      ]
     },
     "execution_count": 10,
     "metadata": {},
     "output_type": "execute_result"
    }
   ],
   "source": [
    "%%time\n",
    "\n",
    "def retry_request(method, **kwargs):\n",
    "    \"\"\"Retry request operation multiple times.\"\"\"\n",
    "    url = kwargs.get('url') or \"\"\n",
    "    click.secho(f\"Querying to {url}\", fg=\"green\")\n",
    "    for i in [0.2, 1, 5, 10, 60, 90, 120, 300]:  # attempt some retries\n",
    "        try:\n",
    "            error = None\n",
    "            response = getattr(requests, method)(verify=False, **kwargs)\n",
    "        except requests.exceptions.RequestException as request_error:  # pragma: no cover\n",
    "            error = request_error\n",
    "            response = None\n",
    "        if response is not None and not str(response.status_code).startswith(\"50\"):\n",
    "            break\n",
    "        else:  # pragma: no cover\n",
    "            msg = f\"Request to {url} failed with error: {error}, retrying in {i}s...\"\n",
    "            click.secho(msg, fg=\"yellow\", err=True)\n",
    "            time.sleep(i)\n",
    "    return response\n",
    "\n",
    "endpoints =  { \n",
    "    'samples': 'https://cbioportal.mskcc.org/api/studies/mskimpact/patients/{pid}/samples?projection=DETAILED',\n",
    "    'mutations': 'https://cbioportal.mskcc.org/api/molecular-profiles/mskimpact_mutations/mutations/fetch?projection=DETAILED',\n",
    "    'segments': 'https://cbioportal.mskcc.org/api/copy-number-segments/fetch?projection=DETAILED'\n",
    "}\n",
    "\n",
    "headers = {\n",
    "    \"Authorization\": f\"Bearer 82e01e74-dd2a-412a-9a19-fda2e5d5d519\",\n",
    "    \"Content-Type\": \"application/json\",\n",
    "}\n",
    "\n",
    "if samples.any().any():\n",
    "    sampleIds = list(samples['Sample ID'])\n",
    "    #click.secho(f'Patient {pid} has samples: {\", \".join(sampleIds)}')\n",
    "    # Get Mutations for all DMP Samples\n",
    "    data = {'sampleIds': sampleIds}\n",
    "    response = retry_request(\n",
    "        'post',\n",
    "        url=endpoints['mutations'], \n",
    "        data=json.dumps(data),\n",
    "        headers=headers\n",
    "    )\n",
    "    mutations = [{**d, **d[\"gene\"]} for d in json.loads(response.content)]    "
   ]
  },
  {
   "cell_type": "code",
   "execution_count": 11,
   "metadata": {},
   "outputs": [],
   "source": [
    "mut_table = pd.DataFrame(mutations)\n",
    "mut_table"
   ]
  },
  {
   "cell_type": "code",
   "execution_count": null,
   "metadata": {},
   "outputs": [],
   "source": [
    "mut_table.to_pickle(data_path + 'cbioportal/raw/mutations_cohort.pkl')"
   ]
  }
 ],
 "metadata": {
  "kernelspec": {
   "display_name": "Python 3",
   "language": "python",
   "name": "python3"
  },
  "language_info": {
   "codemirror_mode": {
    "name": "ipython",
    "version": 3
   },
   "file_extension": ".py",
   "mimetype": "text/x-python",
   "name": "python",
   "nbconvert_exporter": "python",
   "pygments_lexer": "ipython3",
   "version": "3.7.6"
  }
 },
 "nbformat": 4,
 "nbformat_minor": 4
}
