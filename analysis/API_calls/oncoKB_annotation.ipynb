{
 "cells": [
  {
   "cell_type": "markdown",
   "metadata": {},
   "source": [
    "# <span style='font-family:\"Times New Roman\"'> <span styel=''> **OncoKB Annotation**\n",
    "\n",
    "## <span style='font-family:\"Times New Roman\"'> <span styel=''> *Emile Cohen* \n",
    "*March 2020*"
   ]
  },
  {
   "cell_type": "markdown",
   "metadata": {},
   "source": [
    "**Goal:** In this notebook, we call the OncoKB API to get the annotation at variant level for MSK-Impact cohort. \n",
    "\n",
    "---"
   ]
  },
  {
   "cell_type": "code",
   "execution_count": 1,
   "metadata": {},
   "outputs": [
    {
     "name": "stdout",
     "output_type": "stream",
     "text": [
      "Setup environment... done!\n"
     ]
    },
    {
     "data": {
      "text/markdown": [
       "<span style=\"color:green\">✅ Working on **mskimpact_env** conda environment.</span>"
      ],
      "text/plain": [
       "<IPython.core.display.Markdown object>"
      ]
     },
     "metadata": {},
     "output_type": "display_data"
    }
   ],
   "source": [
    "%run -i '../../utils/setup_environment.ipy'\n",
    "\n",
    "import warnings\n",
    "import requests\n",
    "import click\n",
    "import os\n",
    "warnings.filterwarnings('ignore')\n",
    "\n",
    "data_path = '../../data/'"
   ]
  },
  {
   "cell_type": "markdown",
   "metadata": {},
   "source": [
    "---\n",
    "For that we need a token to access the API, that could be found after logging in in OncoKB (https://www.oncokb.org/dataAccess) in *Account Settings*.\n",
    "\n",
    "My Token is : **f08eeec6-fe2e-4414-9352-df71e2c1db32**\n",
    "\n",
    "---"
   ]
  },
  {
   "cell_type": "code",
   "execution_count": 2,
   "metadata": {},
   "outputs": [],
   "source": [
    "def retry_request(method, **kwargs):\n",
    "    \"\"\"Retry request operation multiple times.\"\"\"\n",
    "    url = kwargs.get('url') or \"\"\n",
    "    click.secho(f\"Querying to {url}\", fg=\"green\")\n",
    "    for i in [0.2, 1, 5, 10, 60, 90, 120, 300]:  # attempt some retries\n",
    "        try:\n",
    "            error = None\n",
    "            response = getattr(requests, method)(verify=False, **kwargs)\n",
    "        except requests.exceptions.RequestException as request_error:  # pragma: no cover\n",
    "            error = request_error\n",
    "            response = None\n",
    "        if response is not None and not str(response.status_code).startswith(\"50\"):\n",
    "            break\n",
    "        else:  # pragma: no cover\n",
    "            msg = f\"Request to {url} failed with error: {error}, retrying in {i}s...\"\n",
    "            click.secho(msg, fg=\"yellow\", err=True)\n",
    "            time.sleep(i)\n",
    "    return response\n",
    "\n",
    "\n",
    "ONCOKB_ENDPOINTS = {\n",
    "    \"api_info\": \"https://www.oncokb.org/api/v1/info\",\n",
    "    \"cancer_genes\": \"https://www.oncokb.org/api/v1/utils/cancerGeneList\",\n",
    "    \"annotate\": \"https://www.oncokb.org/api/v1/annotate/mutations/byGenomicChange\",\n",
    "}\n",
    "\n",
    "\n",
    "def oncokb_query(endpoint, method=\"get\", data=None):\n",
    "    \"\"\"Make authenticated calls to newest oncokb api to gen cancer genes.\"\"\"\n",
    "    oncokb_token = os.environ.get(\"f08eeec6-fe2e-4414-9352-df71e2c1db32\")\n",
    "    if not oncokb_token:\n",
    "        raise click.UsageError(\n",
    "            \"oncoKb authentication token is missing. \"\n",
    "            \"Add it as enviromental variable:\"\n",
    "            \"\\n\\texport ONCOKB_TOKEN=<your-oncokb-token>\"\n",
    "            \"\\nOr add them to a .env file.\"\n",
    "        )\n",
    "    headers = {\n",
    "        \"Authorization\": f\"Bearer {oncokb_token}\",\n",
    "        \"Content-Type\": \"application/json\",\n",
    "    }\n",
    "    response = retry_request(method, url=endpoint, headers=headers, data=data)\n",
    "    if not response.ok:\n",
    "        raise click.UsageError(f\"OncoKb query failed. Reason: {response.reason}\")\n",
    "    return json.loads(response.content)\n",
    "\n",
    "\n",
    "def get_oncokb_treatments(df, genomic_cols, tumor_type):\n",
    "    \"\"\"Return df with extra columns for Drug and Evidence Level.\"\"\"\n",
    "    chrom_col, start_col, end_col, ref_col, alt_col = genomic_cols\n",
    "    genomic_changes = [\n",
    "        [v[chrom_col], v[start_col], v[end_col], v[ref_col], v[alt_col]]\n",
    "        for v in df.T.to_dict().values()\n",
    "    ]\n",
    "    data = [\n",
    "        {\n",
    "            \"genomicLocation\": \",\".join(map(str, i)),\n",
    "            \"tumorType\": tumor_type,\n",
    "            \"id\": \"\",\n",
    "            \"evidenceTypes\": [],\n",
    "        }\n",
    "        for i in genomic_changes\n",
    "    ]\n",
    "    annotated_variants = oncokb_query(\n",
    "        ONCOKB_ENDPOINTS[\"annotate\"], method=\"post\", data=json.dumps(data)\n",
    "    )\n",
    "    return annotated_variants\n",
    "\n",
    "\n",
    "def get_oncokb_genes():\n",
    "    \"\"\"Get list of genes and biomarker incindence levels from oncokb.\"\"\"\n",
    "    return oncokb_query(ONCOKB_ENDPOINTS[\"cancer_genes\"])\n"
   ]
  },
  {
   "cell_type": "code",
   "execution_count": null,
   "metadata": {},
   "outputs": [],
   "source": []
  }
 ],
 "metadata": {
  "kernelspec": {
   "display_name": "Python 3",
   "language": "python",
   "name": "python3"
  },
  "language_info": {
   "codemirror_mode": {
    "name": "ipython",
    "version": 3
   },
   "file_extension": ".py",
   "mimetype": "text/x-python",
   "name": "python",
   "nbconvert_exporter": "python",
   "pygments_lexer": "ipython3",
   "version": "3.7.6"
  }
 },
 "nbformat": 4,
 "nbformat_minor": 4
}
